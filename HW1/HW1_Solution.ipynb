{
 "cells": [
  {
   "cell_type": "code",
   "execution_count": 32,
   "metadata": {},
   "outputs": [],
   "source": [
    "import numpy as np \n",
    "from numpy.random import geometric\n",
    "import matplotlib.pyplot as plt\n",
    "from scipy.stats import nbinom, iqr, norm, binom, rv_discrete,describe,pearsonr\n",
    "import statistics\n",
    "import math as math \n",
    "import seaborn as sns \n",
    "import pandas as pd \n",
    "\n",
    "from mpmath import mpf\n",
    "from collections import defaultdict"
   ]
  },
  {
   "cell_type": "markdown",
   "metadata": {},
   "source": [
    "## Read the following instructions carefully:\n",
    "\n",
    "1. This jupyter notebook contains all the step by step instructions needed for this exercise.\n",
    "1. You are free to add cells.\n",
    "1. Write your functions and your answers in this jupyter notebook only.\n",
    "1. Answers to theoretical questions should be written in **markdown cells (with $\\LaTeX$ support)**.\n",
    "1. Submit this jupyter notebook only using your ID as a filename. Not to use ZIP or RAR. For example, your Moodle submission file name should look like this (two id numbers): `123456789_987654321.ipynb`."
   ]
  },
  {
   "cell_type": "markdown",
   "metadata": {},
   "source": [
    "### Question 1 - Defective products"
   ]
  },
  {
   "cell_type": "markdown",
   "metadata": {},
   "source": [
    "In a manufacturing pipeline products are 3% defective. We are interested in examining a defective product to see what goes wrong on the belt. We need to ask the facility manager to send us a set of independent samples for examination."
   ]
  },
  {
   "cell_type": "markdown",
   "metadata": {},
   "source": [
    "#### 1.A\n",
    "\n",
    "How many independent samples should we ask for in order to have a 85% probability of having at least one defective product in the batch sent? You should write a function."
   ]
  },
  {
   "cell_type": "code",
   "execution_count": 2,
   "metadata": {},
   "outputs": [],
   "source": [
    "def defective_calc(p,sum_of_prob):\n",
    "    total=0\n",
    "    i=1\n",
    "    tot_calc=0\n",
    "\n",
    "    while  tot_calc<sum_of_prob :\n",
    "        my_calc=(p)*(1-p)**(i-1)\n",
    "\n",
    "        tot_calc+=my_calc\n",
    "\n",
    "        i+=1\n",
    "    return print(\"We should ask {} samples in order to get  probability of {} with {} defective,sum of our calculation {}\".format( i-1,sum_of_prob, p,tot_calc))\n"
   ]
  },
  {
   "cell_type": "code",
   "execution_count": 3,
   "metadata": {},
   "outputs": [
    {
     "name": "stdout",
     "output_type": "stream",
     "text": [
      "We should ask 63 samples in order to get  probability of 0.85 with 0.03 defective,sum of our calculation 0.8532360949640697\n"
     ]
    }
   ],
   "source": [
    "\n",
    "defective_calc(0.03, 0.85)"
   ]
  },
  {
   "cell_type": "markdown",
   "metadata": {},
   "source": [
    "#### 1.B\n",
    "Answer this part again with the following changes: products are 4% defective and we want a 95% probability of at least one defective product in the batch."
   ]
  },
  {
   "cell_type": "code",
   "execution_count": 4,
   "metadata": {},
   "outputs": [
    {
     "name": "stdout",
     "output_type": "stream",
     "text": [
      "We should ask 74 samples in order to get  probability of 0.95 with 0.04 defective,sum of our calculation 0.9512391525501648\n"
     ]
    }
   ],
   "source": [
    "\n",
    "defective_calc(0.04, 0.95)"
   ]
  },
  {
   "cell_type": "markdown",
   "metadata": {},
   "source": [
    "#### 1.C \n",
    "\n",
    "Consider the following cases and calculate how many independent samples are required: \n",
    "\n",
    "1. Products are 10% defective and we want a 90% probability of at least 5 defective products in the batch.\n",
    "1. Products are 30% defective and we want a 90% probability of at least 15 defective products in the batch.\n",
    "\n",
    "Explain the difference between the two results. You should use mathematical reasoning based on the properties of distributions you saw in class and visualizations in your answer."
   ]
  },
  {
   "cell_type": "code",
   "execution_count": 6,
   "metadata": {},
   "outputs": [
    {
     "name": "stdout",
     "output_type": "stream",
     "text": [
      " Probability is  = 0.9006056767326895 for 78 samples  and 5 defective \n",
      "\n",
      " Probability is  = 0.9025706028157232 for 64 samples  and 15 defective \n",
      "\n"
     ]
    }
   ],
   "source": [
    "# 1C-1\n",
    "#  for example if we want at least 5 sucsess - so we should calculate  1- p( 4 successes)\n",
    "# r=4\n",
    "# p=0.1\n",
    "\n",
    "\n",
    "def func_c1(p,y,r):\n",
    "    tot=0\n",
    "\n",
    "    while tot<0.90:\n",
    "        calc= ((math.factorial(y-1))/(math.factorial(r-1)*math.factorial((y-1)-(r-1))))*math.pow(1-p,y-r)*math.pow(p,r)\n",
    "\n",
    "        tot+=calc\n",
    "        y+=1\n",
    "\n",
    "    return print(' Probability is  = {} for {} samples  and {} defective \\n'.format(tot,y-1,r))\n",
    "\n",
    "c1=func_c1(0.1,5,5)\n",
    "\n",
    "\n",
    "c2=func_c1(0.3,15,15)\n",
    "\n"
   ]
  },
  {
   "cell_type": "code",
   "execution_count": 7,
   "metadata": {},
   "outputs": [
    {
     "data": {
      "image/png": "[encoded data removed]",
      "text/plain": [
       "<Figure size 864x360 with 1 Axes>"
      ]
     },
     "metadata": {
      "needs_background": "light"
     },
     "output_type": "display_data"
    }
   ],
   "source": [
    "r1=5\n",
    "r2=15\n",
    "p1=0.1\n",
    "p2=0.3\n",
    "\n",
    "X=nbinom(r1,p1,loc=r1)\n",
    "Y=nbinom(r2,p2,loc=r2)\n",
    "\n",
    "i1=range(0,int(np.round(2*r1/p1,0)))\n",
    "i2=range(0,int(np.round(2*r2/p2,0)))\n",
    "\n",
    "P_X=X.pmf(i1)\n",
    "P_Y=Y.pmf(i2)\n",
    "\n",
    "plt.figure(figsize=(12,5))\n",
    "plt.subplot(1,2,1)\n",
    "\n",
    "plt.plot(i2, P_Y, 'v', label=\"$Y\\sim NB({{{0}}},{{{1}}})$\".format(p2,r2))\n",
    "plt.plot(i1, P_X, 'x', label=\"$X\\sim NB({{{0}}},{{{1}}})$\".format(p1,r1))\n",
    "plt.xlabel('i', fontsize=16)\n",
    "plt.ylabel('$Prob(i)$', fontsize=16)\n",
    "plt.legend()\n",
    "plt.show()"
   ]
  },
  {
   "cell_type": "code",
   "execution_count": 8,
   "metadata": {},
   "outputs": [
    {
     "name": "stdout",
     "output_type": "stream",
     "text": [
      " variance of X~ NB (0.1,5) is :4.893057872748543e-05, std is=0.006995039580122863\n",
      " variance of Y~ NB (0.3,15) is :0.00016813196952545592, std is=0.012966571232421311\n"
     ]
    }
   ],
   "source": [
    "# calculation of variance and std for the explanation \n",
    "\n",
    "print(' variance of X~ NB (0.1,5) is :{}, std is={}'.format(np.var(P_X), np.sqrt(np.var(P_X))))\n",
    "\n",
    "\n",
    "print(' variance of Y~ NB (0.3,15) is :{}, std is={}'.format(np.var(P_Y), np.sqrt(np.var(P_Y))))"
   ]
  },
  {
   "cell_type": "markdown",
   "metadata": {},
   "source": [
    "X~ NB (0.1,5)\n",
    "Y~NB(0.3,15)\n",
    "\n",
    "\n",
    "1.X and Y distribution graph will start on r (X- 5, Y-15) because for example, let's take X - we need at least 5 trials to get 5 successes ( and this is r).\n",
    "\n",
    "\n",
    "2.we noticed that curve will be closer to the x-axis and thicker when the probability is closer to 0.\n",
    "and the curve will be more sharp and slim when the probability is closer to 1\n",
    "\n",
    "\n",
    "3.highest point in each curve is the max trial ( trial where we got the higher probability). for X it was the 41st trial and for Y it was the 47th trial in this exercise \n",
    "\n",
    "\n",
    "4.curve shape showing us where data concntrate ( most of it concentrate around the max of the curve) and how fast we are getting to the maximum result , we can see that we reach to the maximum point faster for X( after 41 trials) \n",
    "\n",
    "\n",
    "\n",
    "\n",
    "5. Let's compare the two scenarios in a sterilized condition\n",
    "    1. both cases have the same probabilities (either 10% or 30%), then it is clear that it would take lesser independents samples to pick 5 defective products than 15 (calculate with NB distribution)\n",
    "    2. Now let's assume that both cases want 5 defective products, however one with prob. 10% and the other with 30%. It would take lesser independents samples to pick 5 defective products from 30% defective in the population than 10% (calculate with NB distribution)\n",
    "\n",
    "\n",
    "We can see that offsetting effect - on the one hand, case 2 has more defective products to pick (15) which should increase the number of independents samples. On the other hand, the probability of a defective sample in the 2 cases is higher than the first case, pointing out that it would be \"easier\" to pick those 15 defectives.\n",
    "From our results, we get the notion that the 30% effect stronger on the result and causing fewer samples than case 1, although we need much more defectives.\n",
    "There are \"sweet spots\" in which the number of samples in both cases are equal. In these \"sweet spots\" the effect of the number of defectives and the prob. meet - as we can see in the graph above."
   ]
  },
  {
   "cell_type": "markdown",
   "metadata": {},
   "source": [
    "### Question 2 - Rent distributions in Randomistan"
   ]
  },
  {
   "cell_type": "markdown",
   "metadata": {},
   "source": [
    "The state of Randomistan conducted a survey to study the distribution of rent paid in two neighboring towns, Stochastic Heights and Random Grove, to be denoted SH and RG.<br> \n",
    "\n",
    "Here are some findings of the survey:\n",
    "* The population of SH and RG is 16,000 and 22,000 respectively. <br>\n",
    "* The mean rent in SH and RG is 6300RCU and 4200RCU respectively.\n",
    "* The median rent is 4600RCU in both towns.\n",
    "* The IQR of the rent is smaller in SH than in RG.\n",
    "\n",
    "All data generated in this question needs to be consistent with these findings."
   ]
  },
  {
   "cell_type": "markdown",
   "metadata": {},
   "source": [
    "#### 2.A\n",
    "Draw histograms that describe 2 different scenarii of possible distributions of rent in the two towns.\u000b",
    "Your histograms should:<br>\n",
    "* Use bins of 100RCU each.\n",
    "* Have at least 10 non zero bins."
   ]
  },
  {
   "cell_type": "code",
   "execution_count": 9,
   "metadata": {},
   "outputs": [],
   "source": [
    "# functions to by used for creating datasets\n",
    "# calculates IQR\n",
    "def iqr_calc(arr):\n",
    "    q3,q1=np.percentile(arr,[75,25])\n",
    "    iqr=q3-q1\n",
    "    return iqr\n",
    "\n",
    "# create 2 arrays for sh and rg\n",
    "def create_lists(rg_arr, sh_arr):\n",
    "    rg=np.append(rg_arr,rg_arr)\n",
    "    sh=np.append(sh_arr,sh_arr)\n",
    "    rg_i=2198\n",
    "    sh_i=1598\n",
    "    for i in range (sh_i):\n",
    "        sh=np.append(sh,sh_arr)\n",
    "    for j in range(rg_i):\n",
    "        rg=np.append(rg, rg_arr)\n",
    "    return rg, sh\n",
    "\n",
    "\n",
    "# covariance calculation\n",
    "def cov_calc(a, rent, phi):\n",
    "    return a*np.sqrt(np.var(rent))*np.sqrt(np.var(phi))\n",
    "\n",
    "\n",
    "\n",
    "def cov_calc_test(rent,phi):\n",
    "    return (np.cov(rent,phi)[1][0])\n",
    "\n",
    "\n",
    "def diff_of_calculated_cov_to_npcov(f,g):\n",
    "    return abs((f-g)/g)*100"
   ]
  },
  {
   "cell_type": "code",
   "execution_count": 10,
   "metadata": {},
   "outputs": [],
   "source": [
    "# 1st scenario\n",
    "\n",
    "RG= np.array([100,200,300,400,4500,4700,4800,8000,9000,10000])\n",
    "SH= np.array([4000,4100,4200,4300,4400,4800,9000,9300,9400,9500])\n",
    "\n",
    "new_rg, new_sh=create_lists(RG, SH)"
   ]
  },
  {
   "cell_type": "code",
   "execution_count": 15,
   "metadata": {},
   "outputs": [
    {
     "name": "stdout",
     "output_type": "stream",
     "text": [
      "SH_sample size is: 16000\n",
      "SH_sample mean is: 6300.0\n",
      "SH_sample median is: 4600.0\n",
      "SH_sample IQR is: 5100.0\n",
      "#############################################################\n",
      "RG_sample size is: 22000\n",
      "RG_sample mean is: 4200.0\n",
      "RG_sample median is: 4600.0\n",
      "RG_sample IQR is: 7700.0\n"
     ]
    }
   ],
   "source": [
    "# Results:\n",
    "print(f'SH_sample size is: {len(new_sh)}')\n",
    "print(f'SH_sample mean is: {new_sh.mean()}')\n",
    "print(f'SH_sample median is: {statistics.median(new_sh)}')\n",
    "print(f'SH_sample IQR is: {iqr(new_sh)}')\n",
    "print('#############################################################')\n",
    "print(f'RG_sample size is: {len(new_rg)}')\n",
    "print(f'RG_sample mean is: {np.ceil(new_rg.mean())}')\n",
    "print(f'RG_sample median is: {statistics.median(new_rg)}')\n",
    "print(f'RG_sample IQR is: {iqr(new_rg)}')\n",
    "\n"
   ]
  },
  {
   "cell_type": "code",
   "execution_count": 16,
   "metadata": {},
   "outputs": [
    {
     "data": {
      "image/png": "[encoded data removed]",
      "text/plain": [
       "<Figure size 432x288 with 1 Axes>"
      ]
     },
     "metadata": {
      "needs_background": "light"
     },
     "output_type": "display_data"
    }
   ],
   "source": [
    "\n",
    "# Plot type 1\n",
    "\n",
    "binning = np.arange(int(new_rg.min()), int(new_sh.max()), 100)\n",
    "\n",
    "fig, ax = plt.subplots()\n",
    "ax.hist(new_sh, color='lightblue', alpha=0.5,label=\"SH\",bins = binning)\n",
    "ax.hist(new_rg, color='salmon', alpha=0.5,label=\"RG\", bins = binning)\n",
    "\n",
    "ax.set(title='Histogram Comparison between SH & RG', xlabel = 'Price', ylabel='No. of occurance')\n",
    "ax.margins(0.05)\n",
    "ax.set_ylim(bottom=0)\n",
    "plt.legend(bbox_to_anchor=(1.05, 1), loc='upper left', borderaxespad=0.)\n",
    "plt.show()\n",
    "\n",
    "\n",
    "\n"
   ]
  },
  {
   "cell_type": "code",
   "execution_count": 17,
   "metadata": {},
   "outputs": [
    {
     "data": {
      "image/png": "[encoded data removed]",
      "text/plain": [
       "<Figure size 1152x288 with 2 Axes>"
      ]
     },
     "metadata": {
      "needs_background": "light"
     },
     "output_type": "display_data"
    }
   ],
   "source": [
    "# Plot type 2\n",
    "\n",
    "fig, axes = plt.subplots(1, 2, figsize=(16, 4))\n",
    "\n",
    "binning_SH = np.arange(int(new_sh.min()), int(new_sh.max()), 100)\n",
    "binning_RG = np.arange(int(new_rg.min()), int(new_rg.max()), 100)\n",
    "\n",
    "axes[0].hist(new_sh, edgecolor='black',color='#FFFEA3', bins = binning_SH)\n",
    "axes[0].set_title('SH Distribution')\n",
    "axes[0].set_xlabel('Price')\n",
    "axes[0].set_ylabel('Count')\n",
    "\n",
    "axes[1].hist(new_rg,edgecolor='black', bins = binning_RG)\n",
    "axes[1].set_title('RG Distribution')\n",
    "axes[1].set_xlabel('Price')\n",
    "axes[1].set_ylabel('Count')\n",
    "\n",
    "plt.show()"
   ]
  },
  {
   "cell_type": "code",
   "execution_count": 19,
   "metadata": {},
   "outputs": [],
   "source": [
    "#2nd scenario\n",
    "\n",
    "RG_2= np.array([100,200,300,400,3000,6200,7000,7100,7700,10000])\n",
    "SH_2= np.array([3500,3900,4000,4400,4500,4700,9300,9400,9500,9800])\n",
    "\n",
    "sec_rg,sec_sh=create_lists(RG_2,SH_2)\n"
   ]
  },
  {
   "cell_type": "code",
   "execution_count": 21,
   "metadata": {},
   "outputs": [
    {
     "name": "stdout",
     "output_type": "stream",
     "text": [
      "SH_sample size is: 16000\n",
      "SH_sample mean is: 6300.0\n",
      "SH_sample median is: 4600.0\n",
      "SH_sample IQR is: 5400.0\n",
      "#############################################################\n",
      "RG_sample size is: 22000\n",
      "RG_sample mean is: 4200.0\n",
      "RG_sample median is: 4600.0\n",
      "RG_sample IQR is: 6800.0\n"
     ]
    }
   ],
   "source": [
    "# Results:\n",
    "print(f'SH_sample size is: {len(sec_sh)}')\n",
    "print(f'SH_sample mean is: {sec_sh.mean()}')\n",
    "print(f'SH_sample median is: {statistics.median(sec_sh)}')\n",
    "print(f'SH_sample IQR is: {iqr(sec_sh)}')\n",
    "\n",
    "print('#############################################################')\n",
    "print(f'RG_sample size is: {len(sec_rg)}')\n",
    "print(f'RG_sample mean is: {np.ceil(sec_rg.mean())}')\n",
    "print(f'RG_sample median is: {statistics.median(sec_rg)}')\n",
    "print(f'RG_sample IQR is: {iqr(sec_rg)}')\n"
   ]
  },
  {
   "cell_type": "code",
   "execution_count": 22,
   "metadata": {},
   "outputs": [
    {
     "data": {
      "image/png": "[encoded data removed]",
      "text/plain": [
       "<Figure size 432x288 with 1 Axes>"
      ]
     },
     "metadata": {
      "needs_background": "light"
     },
     "output_type": "display_data"
    }
   ],
   "source": [
    "\n",
    "# Plot type 1\n",
    "\n",
    "binning = np.arange(int(sec_rg.min()), int(sec_sh.max()), 100)\n",
    "fig, ax = plt.subplots()\n",
    "\n",
    "ax.hist(sec_sh, color='lightblue', alpha=0.5,label=\"SH\", bins = binning)\n",
    "ax.hist(sec_rg, color='salmon', alpha=0.5,label=\"RG\", bins = binning)\n",
    "\n",
    "ax.set(title='Histogram Comparison between SH & RG', xlabel = 'Price', ylabel='No. of occurance')\n",
    "ax.margins(0.05)\n",
    "ax.set_ylim(bottom=0)\n",
    "plt.legend(bbox_to_anchor=(1.05, 1), loc='upper left', borderaxespad=0.)\n",
    "plt.show()\n"
   ]
  },
  {
   "cell_type": "code",
   "execution_count": 23,
   "metadata": {},
   "outputs": [
    {
     "data": {
      "image/png": "[encoded data removed]",
      "text/plain": [
       "<Figure size 1152x288 with 2 Axes>"
      ]
     },
     "metadata": {
      "needs_background": "light"
     },
     "output_type": "display_data"
    }
   ],
   "source": [
    "# Plot type 2\n",
    "\n",
    "fig, axes = plt.subplots(1, 2, figsize=(16, 4))\n",
    "\n",
    "binning_SH = np.arange(int(sec_sh.min()), int(sec_sh.max()), 100)\n",
    "binning_RG = np.arange(int(sec_rg.min()), int(sec_rg.max()), 100)\n",
    "\n",
    "axes[0].hist(sec_sh, edgecolor='black',color='#FFFEA3', bins=binning_SH)\n",
    "axes[0].set_title('SH Distribution')\n",
    "axes[0].set_xlabel('Price')\n",
    "axes[0].set_ylabel('Count')\n",
    "\n",
    "axes[1].hist(sec_rg,edgecolor='black',bins=binning_RG)\n",
    "axes[1].set_title('RG Distribution')\n",
    "axes[1].set_xlabel('Price')\n",
    "axes[1].set_ylabel('Count')\n",
    "\n",
    "plt.show()"
   ]
  },
  {
   "cell_type": "markdown",
   "metadata": {},
   "source": [
    "#### 2.B\n",
    "Draw a histogram of a third scenario with the same properties. <br>\n",
    "In addition, in this scenario the rent in SH should have a higher variance than the rent in RG."
   ]
  },
  {
   "cell_type": "code",
   "execution_count": 24,
   "metadata": {},
   "outputs": [],
   "source": [
    "# Conducting SH_sample with higher Var than RG\n",
    "\n",
    "SH_sample =np.array([4_100,4_200,4_300,4_400,4_450,\n",
    "                     4_500,4_600,4_600,4_700,\n",
    "                     7_000,9_000,10_000,11_000,14_000])\n",
    "\n",
    "SH_copy= np.copy(SH_sample)\n",
    "\n",
    "\n",
    "for i in range(1):\n",
    "    temp_1 = np.array([SH_copy[i]]*10)\n",
    "    temp_2 = np.array([SH_copy[i+13]]*10)\n",
    "    temp = np.append(temp_1,temp_2)\n",
    "    SH_sample = np.append(SH_sample,temp)\n",
    "\n",
    "for i in range(1):\n",
    "    temp_1 = np.array([SH_copy[i+1]]*19)\n",
    "    temp_2 = np.array([SH_copy[i+12]]*19)\n",
    "    temp = np.append(temp_1,temp_2)\n",
    "    SH_sample = np.append(SH_sample,temp)\n",
    "\n",
    "for i in range(1):\n",
    "    temp_1 = np.array([SH_copy[i+2]]*3)\n",
    "    temp_2 = np.array([SH_copy[i+11]]*3)\n",
    "    temp = np.append(temp_1,temp_2)\n",
    "    SH_sample = np.append(SH_sample,temp)\n",
    "\n",
    "for i in range(1):\n",
    "    temp_1 = np.array([SH_copy[i+3]]*4)\n",
    "    temp_2 = np.array([SH_copy[i+10]]*4)\n",
    "    temp = np.append(temp_1,temp_2)\n",
    "    SH_sample = np.append(SH_sample,temp)\n",
    "    \n",
    "for i in range(1):\n",
    "    temp_1 = np.array([SH_copy[i+4]]*9)\n",
    "    temp_2 = np.array([SH_copy[i+9]]*9)\n",
    "    temp = np.append(temp_1,temp_2)\n",
    "    SH_sample = np.append(SH_sample,temp)\n",
    "\n",
    "for i in range(1):\n",
    "    temp_1 = np.array([SH_copy[i+5]]*19)\n",
    "    temp_2 = np.array([SH_copy[i+8]]*19)\n",
    "    temp = np.append(temp_1,temp_2)\n",
    "    SH_sample = np.append(SH_sample,temp)\n",
    "\n",
    "for i in range(1):\n",
    "    temp_1 = np.array([SH_copy[i+6]]*9)\n",
    "    temp_2 = np.array([SH_copy[i+7]]*9)\n",
    "    temp = np.append(temp_1,temp_2)\n",
    "    SH_sample = np.append(SH_sample,temp)\n",
    "\n",
    "\n",
    "SH_sample = np.sort(SH_sample)\n",
    "    \n",
    "SH_sample_big = np.repeat(SH_sample,100)\n",
    "gap = np.sum(SH_sample_big)-6_300*len(SH_sample_big)\n",
    "number_of_md = 20*100\n",
    "addition = gap/(len(SH_sample_big)-number_of_md)\n",
    "\n",
    "\n",
    "for i in range(len(SH_sample_big)):\n",
    "    if SH_sample_big[i] != 4_600:\n",
    "        SH_sample_big[i]-=addition"
   ]
  },
  {
   "cell_type": "code",
   "execution_count": 25,
   "metadata": {},
   "outputs": [],
   "source": [
    "# Conducting RG_sample with lower Var than SH\n",
    "\n",
    "RG_sample =np.array([600,700,800,900,1_000,1_200,1_300,1_500,1_600,\n",
    "                     4_600,4_600,4_700,4_800,4_900,5_000,5_100,5_200,5_300,5_400,10_000])\n",
    "RG_copy = np.copy(RG_sample)\n",
    "\n",
    "for i in range(3):\n",
    "    temp_1 = np.array([RG_copy[i]]*24)\n",
    "    temp_2 = np.array([RG_copy[i+17]]*24)\n",
    "    temp = np.append(temp_1,temp_2)\n",
    "    RG_sample = np.append(RG_sample,temp)\n",
    "\n",
    "for i in range(2):\n",
    "    temp_1 = np.array([RG_copy[i+3]]*44)\n",
    "    temp_2 = np.array([RG_copy[i+15]]*44)\n",
    "    temp = np.append(temp_1,temp_2)\n",
    "    RG_sample = np.append(RG_sample,temp)\n",
    "\n",
    "for i in range(2):\n",
    "    temp_1 = np.array([RG_copy[i+5]]*12)\n",
    "    temp_2 = np.array([RG_copy[i+13]]*11)\n",
    "    temp = np.append(temp_1,temp_2)\n",
    "    RG_sample = np.append(RG_sample,temp)\n",
    "\n",
    "for i in range(2):\n",
    "    temp_1 = np.array([RG_copy[i+7]]*9)\n",
    "    temp_2 = np.array([RG_copy[i+11]]*9)\n",
    "    temp = np.append(temp_1,temp_2)\n",
    "    RG_sample = np.append(RG_sample,temp)\n",
    "    \n",
    "for i in range(1):\n",
    "    temp_1 = np.array([RG_copy[i+9]]*9)\n",
    "    temp_2 = np.array([RG_copy[i+10]]*9)\n",
    "    temp = np.append(temp_1,temp_2)\n",
    "    RG_sample = np.append(RG_sample,temp)\n",
    "\n",
    "    \n",
    "RG_sample = np.sort(RG_sample)\n",
    "RG_sample_big = np.repeat(RG_sample,50)\n",
    "\n",
    "gap = 4_200*len(RG_sample_big) - np.sum(RG_sample_big)\n",
    "number_of_md = 10*100\n",
    "addition = gap/(len(RG_sample_big)-number_of_md)\n",
    "\n",
    "for i in range(len(RG_sample_big)):\n",
    "      if RG_sample_big[i] != 4_600:\n",
    "        RG_sample_big[i]+=addition"
   ]
  },
  {
   "cell_type": "code",
   "execution_count": 27,
   "metadata": {},
   "outputs": [
    {
     "name": "stdout",
     "output_type": "stream",
     "text": [
      "SH_sample sample size is: 16000\n",
      "SH_sample mean is: 6300.0\n",
      "SH_sample median is: 4600.0\n",
      "SH_sample STD is: 3130.6638672971585\n",
      "SH_sample IQR is: 3062.5\n",
      "SH_sample Variance is: 9801056.25\n",
      "#############################################################\n",
      "RG_sample sample size is: 22000\n",
      "RG_sample mean is: 4200.0\n",
      "RG_sample median is: 4600.0\n",
      "RG_sample STD is: 2579.0839839526343\n",
      "RG_sample IQR is: 4300.0\n",
      "RG_sample Variance is: 6651674.196280992\n"
     ]
    }
   ],
   "source": [
    "# #Results:\n",
    "\n",
    "print(f'SH_sample sample size is: {len(SH_sample_big)}')\n",
    "print(f'SH_sample mean is: {SH_sample_big.mean()}')\n",
    "print(f'SH_sample median is: {statistics.median(SH_sample_big)}')\n",
    "print(f'SH_sample STD is: {np.std(SH_sample_big)}')\n",
    "print(f'SH_sample IQR is: {iqr(SH_sample_big)}')\n",
    "print(f'SH_sample Variance is: {np.var(SH_sample_big)}')\n",
    "print('#############################################################')\n",
    "print(f'RG_sample sample size is: {len(RG_sample_big)}')\n",
    "print(f'RG_sample mean is: {np.ceil(RG_sample_big.mean())}')\n",
    "print(f'RG_sample median is: {statistics.median(RG_sample_big)}')\n",
    "print(f'RG_sample STD is: {np.std(RG_sample_big)}')\n",
    "print(f'RG_sample IQR is: {iqr(RG_sample_big)}')\n",
    "print(f'RG_sample Variance is: {np.var(RG_sample_big)}')\n",
    "\n",
    "#  We can see that avriance of SH> variance of RG"
   ]
  },
  {
   "cell_type": "code",
   "execution_count": 28,
   "metadata": {},
   "outputs": [
    {
     "data": {
      "image/png": "[encoded data removed]",
      "text/plain": [
       "<Figure size 432x288 with 1 Axes>"
      ]
     },
     "metadata": {
      "needs_background": "light"
     },
     "output_type": "display_data"
    }
   ],
   "source": [
    "# Plot type 1\n",
    "\n",
    "binning = np.arange(int(RG_sample_big.min()), int(SH_sample_big.max()), 100)\n",
    "fig, ax = plt.subplots()\n",
    "\n",
    "\n",
    "ax.hist(SH_sample_big, color='lightblue', alpha=0.5,label=\"SH\", bins=binning)\n",
    "ax.hist(RG_sample_big, color='salmon', alpha=0.5,label=\"RG\", bins=binning)\n",
    "\n",
    "ax.set(title='Histogram Comparison between SH & RG', xlabel = 'Price', ylabel='No. of occurance')\n",
    "ax.margins(0.05)\n",
    "ax.set_ylim(bottom=0)\n",
    "plt.legend(bbox_to_anchor=(1.05, 1), loc='upper left', borderaxespad=0.)\n",
    "plt.show()"
   ]
  },
  {
   "cell_type": "code",
   "execution_count": 29,
   "metadata": {},
   "outputs": [
    {
     "data": {
      "image/png": "[encoded data removed]",
      "text/plain": [
       "<Figure size 1152x288 with 2 Axes>"
      ]
     },
     "metadata": {
      "needs_background": "light"
     },
     "output_type": "display_data"
    }
   ],
   "source": [
    "# Plot type 2\n",
    "\n",
    "fig, axes = plt.subplots(1, 2, figsize=(16, 4))\n",
    "\n",
    "binning_SH = np.arange(int(SH_sample_big.min()), int(SH_sample_big.max()), 100)\n",
    "binning_RG = np.arange(int(RG_sample_big.min()), int(RG_sample_big.max()), 100)\n",
    "\n",
    "axes[0].hist(SH_sample_big, edgecolor='black',color='#FFFEA3', bins =binning_SH )\n",
    "axes[0].set_title('SH Distribution')\n",
    "axes[0].set_xlabel('Price')\n",
    "axes[0].set_ylabel('Count')\n",
    "\n",
    "axes[1].hist(RG_sample_big,edgecolor='black', bins =binning_RG)\n",
    "axes[1].set_title('RG Distribution')\n",
    "axes[1].set_xlabel('Price')\n",
    "axes[1].set_ylabel('Count')\n",
    "\n",
    "plt.show()"
   ]
  },
  {
   "cell_type": "markdown",
   "metadata": {},
   "source": [
    "The survey also examined the per household income (PHI) in these two places.<br>\n",
    "\n",
    "It found that:<br>\n",
    "* The mean of PHI in SH is 12500 and in RG is 8500.\n",
    "* The median is 12000 in SH and 8000 in RG.\n",
    "* The covariance of the rent and the PHI was observed to be as in the formula below with $\\alpha=97\\%$ and $\\alpha=89\\%$ in SH and in RG respectively.<br><br>\n",
    "$$Cov(rent, PHI) = \\alpha * \\sqrt{Var(rent)} * \\sqrt{Var(PHI)}$$\n",
    "\n",
    "#### 2.C\n",
    "Produce rent and PHI data for the two cities, that is consistent with these findings. The covariances in your data can deviate by up to 1% from the numbers given $\\alpha$."
   ]
  },
  {
   "cell_type": "code",
   "execution_count": 33,
   "metadata": {},
   "outputs": [
    {
     "name": "stdout",
     "output_type": "stream",
     "text": [
      "SH_rent rent size is: 16000\n",
      "SH_rent mean is: 12500.0\n",
      "SH_rent median is: 12000.0\n",
      "SH_rent STD is: 5893.612007928585\n",
      "SH_rent correlation with SH_sample: (0.9609386289181789, 0.0)\n"
     ]
    }
   ],
   "source": [
    "#SH_PHI_sample\n",
    "\n",
    "SH_rent =np.array([10_000, 11_100, 11_400, 11_600,\n",
    "       11_700, 11_800, 12_000, 12_000,\n",
    "       16_000, 16_500, 21_000, 22_700,\n",
    "       24_700, 30_000])\n",
    "\n",
    "SH_copy= np.copy(SH_rent)\n",
    "\n",
    "\n",
    "for i in range(1):\n",
    "    temp_1 = np.array([SH_copy[i]]*10)\n",
    "    temp_2 = np.array([SH_copy[i+13]]*10)\n",
    "    temp = np.append(temp_1,temp_2)\n",
    "    SH_rent = np.append(SH_rent,temp)\n",
    "\n",
    "for i in range(1):\n",
    "    temp_1 = np.array([SH_copy[i+1]]*19)\n",
    "    temp_2 = np.array([SH_copy[i+12]]*19)\n",
    "    temp = np.append(temp_1,temp_2)\n",
    "    SH_rent = np.append(SH_rent,temp)\n",
    "\n",
    "for i in range(1):\n",
    "    temp_1 = np.array([SH_copy[i+2]]*3)\n",
    "    temp_2 = np.array([SH_copy[i+11]]*3)\n",
    "    temp = np.append(temp_1,temp_2)\n",
    "    SH_rent = np.append(SH_rent,temp)\n",
    "\n",
    "for i in range(1):\n",
    "    temp_1 = np.array([SH_copy[i+3]]*4)\n",
    "    temp_2 = np.array([SH_copy[i+10]]*4)\n",
    "    temp = np.append(temp_1,temp_2)\n",
    "    SH_rent = np.append(SH_rent,temp)\n",
    "    \n",
    "for i in range(1):\n",
    "    temp_1 = np.array([SH_copy[i+4]]*9)\n",
    "    temp_2 = np.array([SH_copy[i+9]]*9)\n",
    "    temp = np.append(temp_1,temp_2)\n",
    "    SH_rent = np.append(SH_rent,temp)\n",
    "\n",
    "for i in range(1):\n",
    "    temp_1 = np.array([SH_copy[i+5]]*19)\n",
    "    temp_2 = np.array([SH_copy[i+8]]*19)\n",
    "    temp = np.append(temp_1,temp_2)\n",
    "    SH_rent = np.append(SH_rent,temp)\n",
    "\n",
    "for i in range(1):\n",
    "    temp_1 = np.array([SH_copy[i+6]]*9)\n",
    "    temp_2 = np.array([SH_copy[i+7]]*9)\n",
    "    temp = np.append(temp_1,temp_2)\n",
    "    SH_rent = np.append(SH_rent,temp)\n",
    "\n",
    "SH_rent = np.sort(SH_rent)\n",
    "    \n",
    "SH_rent_big = np.repeat(SH_rent,100)\n",
    "gap = np.sum(SH_rent_big)-12_500*len(SH_rent_big)\n",
    "number_of_md = 20*100\n",
    "addition = gap/(len(SH_rent_big)-number_of_md)\n",
    "addition\n",
    "\n",
    "for i in range(len(SH_rent_big)):\n",
    "    if SH_rent_big[i] != 12_000:\n",
    "        SH_rent_big[i]-=addition\n",
    "\n",
    "\n",
    "# ##############################################################################################################\n",
    "# ##############################################################################################################\n",
    "\n",
    "# #Results:\n",
    "\n",
    "print(f'SH_rent rent size is: {len(SH_rent_big)}')\n",
    "print(f'SH_rent mean is: {SH_rent_big.mean()}')\n",
    "print(f'SH_rent median is: {statistics.median(SH_rent_big)}')\n",
    "print(f'SH_rent STD is: {np.std(SH_rent_big)}')\n",
    "print(f'SH_rent correlation with SH_sample: {pearsonr(SH_rent_big,SH_sample_big)}')\n"
   ]
  },
  {
   "cell_type": "code",
   "execution_count": 35,
   "metadata": {},
   "outputs": [
    {
     "name": "stdout",
     "output_type": "stream",
     "text": [
      "RG_rent rent size is: 22000\n",
      "RG_rent mean is: 8500.0\n",
      "RG_rent median is: 8000.0\n",
      "RG_rent STD is: 4911.095823489906\n",
      "RG_rent Variance is: 24118862.1875\n",
      "RG_rent correlation with RG_sample: (0.8959076030410862, 0.0)\n",
      "RG_sample IQR is: 7500.0\n",
      "##########################################3\n",
      "SH_rent rent size is: 16000\n",
      "SH_rent mean is: 12500.0\n",
      "SH_rent median is: 12000.0\n",
      "SH_rent STD is: 5893.612007928585\n",
      "SH_rent Variance is: 34734662.5\n",
      "SH_sample IQR is: 5950.0\n",
      "SH_rent correlation with SH_sample: (0.9609386289181789, 0.0)\n"
     ]
    }
   ],
   "source": [
    "#RG_PHI_sample\n",
    "\n",
    "RG_rent =np.array([2_000,  2_500,  3_000,  5_500 ,\n",
    "        6_000,  6_500, 7_500,  7_500,\n",
    "        8_000,  8000,  8000,  8_000,\n",
    "        10_000,  11_000,  11_500,  12_000,\n",
    "        13_000,  15_500,  15_000, 16_500])\n",
    "RG_copy = np.copy(RG_rent)\n",
    "\n",
    "for i in range(3):\n",
    "    temp_1 = np.array([RG_copy[i]]*34)\n",
    "    temp_2 = np.array([RG_copy[i+17]]*34)\n",
    "    temp = np.append(temp_1,temp_2)\n",
    "    RG_rent = np.append(RG_rent,temp)\n",
    "\n",
    "for i in range(2):\n",
    "    temp_1 = np.array([RG_copy[i+3]]*24)\n",
    "    temp_2 = np.array([RG_copy[i+15]]*24)\n",
    "    temp = np.append(temp_1,temp_2)\n",
    "    RG_rent = np.append(RG_rent,temp)\n",
    "\n",
    "for i in range(2):\n",
    "    temp_1 = np.array([RG_copy[i+5]]*12)\n",
    "    temp_2 = np.array([RG_copy[i+13]]*11)\n",
    "    temp = np.append(temp_1,temp_2)\n",
    "    RG_rent = np.append(RG_rent,temp)\n",
    "\n",
    "for i in range(2):\n",
    "    temp_1 = np.array([RG_copy[i+7]]*14)\n",
    "    temp_2 = np.array([RG_copy[i+11]]*14)\n",
    "    temp = np.append(temp_1,temp_2)\n",
    "    RG_rent = np.append(RG_rent,temp)\n",
    "    \n",
    "for i in range(1):\n",
    "    temp_1 = np.array([RG_copy[i+9]]*9)\n",
    "    temp_2 = np.array([RG_copy[i+10]]*9)\n",
    "    temp = np.append(temp_1,temp_2)\n",
    "    RG_rent = np.append(RG_rent,temp)\n",
    "\n",
    "    \n",
    "RG_rent = np.sort(RG_rent)\n",
    "\n",
    "RG_rent_big = np.repeat(RG_rent,50)\n",
    "\n",
    "gap = 8_500*len(RG_rent_big) - np.sum(RG_rent_big)\n",
    "number_of_md = 25*100\n",
    "addition = gap/(len(RG_rent_big)-number_of_md)\n",
    "\n",
    "\n",
    "counter = 0\n",
    "for i in range(len(RG_rent_big)):\n",
    "      if RG_rent_big[i] != 8_000:\n",
    "        RG_rent_big[i]+=addition\n",
    "        counter +=1\n",
    "        \n",
    "        \n",
    "##############################################################################################################\n",
    "##############################################################################################################\n",
    "\n",
    "#Results:\n",
    "\n",
    "print(f'RG_rent rent size is: {len(RG_rent_big)}')\n",
    "print(f'RG_rent mean is: {np.ceil(RG_rent_big.mean())}')\n",
    "print(f'RG_rent median is: {statistics.median(RG_rent_big)}')\n",
    "print(f'RG_rent STD is: {np.std(RG_rent_big)}')\n",
    "print(f'RG_rent Variance is: {np.var(RG_rent_big)}')\n",
    "print(f'RG_rent correlation with RG_sample: {pearsonr(RG_rent_big,RG_sample_big)}')\n",
    "print(f'RG_sample IQR is: {iqr(RG_rent_big)}')\n",
    "print('##########################################3')\n",
    "\n",
    "print(f'SH_rent rent size is: {len(SH_rent_big)}')\n",
    "print(f'SH_rent mean is: {np.ceil(SH_rent_big.mean())}')\n",
    "print(f'SH_rent median is: {statistics.median(SH_rent_big)}')\n",
    "print(f'SH_rent STD is: {np.std(SH_rent_big)}')\n",
    "print(f'SH_rent Variance is: {np.var(SH_rent_big)}')\n",
    "print(f'SH_sample IQR is: {iqr(SH_rent_big)}')\n",
    "print(f'SH_rent correlation with SH_sample: {pearsonr(SH_rent_big,SH_sample_big)}')\n"
   ]
  },
  {
   "cell_type": "markdown",
   "metadata": {},
   "source": [
    "#### 2.D\n",
    "Produce two heatmaps that describe these two bivariate joint distributions. Make sure you carefully consider the selected binning resolution."
   ]
  },
  {
   "cell_type": "code",
   "execution_count": 36,
   "metadata": {},
   "outputs": [
    {
     "data": {
      "image/png": "[encoded data removed]",
      "text/plain": [
       "<Figure size 1440x576 with 3 Axes>"
      ]
     },
     "metadata": {
      "needs_background": "light"
     },
     "output_type": "display_data"
    }
   ],
   "source": [
    "\n",
    "#Plotting heatmaps\n",
    "\n",
    "heatmap1, xedges1, yedges1 = np.histogram2d( SH_rent_big,SH_sample_big, bins=15)\n",
    "heatmap2, xedges2, yedges2 = np.histogram2d( RG_rent_big,RG_sample_big, bins=15)\n",
    "extent1 = [xedges1[0], xedges1[-1], yedges1[0], yedges1[-1]]\n",
    "extent2 = [xedges2[0], xedges2[-1], yedges2[0], yedges2[-1]]\n",
    "\n",
    "fig, (ax, ax2, cax) = plt.subplots(ncols=3,figsize=(20,8), \n",
    "                  gridspec_kw={\"width_ratios\":[1,1, 0.05]})\n",
    "fig.subplots_adjust(wspace=0.3)\n",
    "im  = ax.imshow(heatmap1.T,extent=extent1, origin='lower',cmap='RdBu',aspect=\"auto\")\n",
    "im2 = ax2.imshow(heatmap2.T,extent=extent2, origin='lower',cmap='RdBu',aspect=\"auto\")\n",
    "ax.set_title('SH', fontsize = 16)\n",
    "ax.set_ylabel(\"PHI\",fontsize = 12)\n",
    "ax.set_xlabel(\"rent\",fontsize = 12)\n",
    "\n",
    "ax2.set_title('RG', fontsize = 16)\n",
    "ax2.set_xlabel(\"rent\",fontsize = 12)\n",
    "\n",
    "fig.colorbar(im, cax=cax)\n",
    "\n",
    "plt.show()"
   ]
  },
  {
   "cell_type": "code",
   "execution_count": 37,
   "metadata": {},
   "outputs": [
    {
     "data": {
      "image/png": "[encoded data removed]",
      "text/plain": [
       "<Figure size 432x432 with 3 Axes>"
      ]
     },
     "metadata": {
      "needs_background": "light"
     },
     "output_type": "display_data"
    }
   ],
   "source": [
    "# Jointplot RG\n",
    "h = sns.jointplot(x=RG_rent_big, y=RG_sample_big, kind='hex')\n",
    "h.set_axis_labels('RG PHI', 'RG rent', fontsize = 16)\n",
    "plt.tight_layout()\n"
   ]
  },
  {
   "cell_type": "code",
   "execution_count": 38,
   "metadata": {},
   "outputs": [
    {
     "data": {
      "image/png": "[encoded data removed]",
      "text/plain": [
       "<Figure size 432x432 with 3 Axes>"
      ]
     },
     "metadata": {
      "needs_background": "light"
     },
     "output_type": "display_data"
    }
   ],
   "source": [
    "# Jointplot SH\n",
    "s = sns.jointplot(x=SH_rent_big, y=SH_sample_big, kind='hex')\n",
    "s.set_axis_labels('SH PHI', 'SH rent', fontsize = 16)\n",
    "plt.tight_layout()"
   ]
  },
  {
   "cell_type": "markdown",
   "metadata": {},
   "source": [
    "### Question 3 - Covariance and independence"
   ]
  },
  {
   "cell_type": "markdown",
   "metadata": {},
   "source": [
    "What is the variance of the sum X +Y + Z of three random variables in terms of the variances of X, Y and Z and the covariances between each pair of random variables? What happens if X,Y,Z are pairwise independent? If X,Y,Z are pairwise independent, are they necessarily collectively independent? Prove your answer."
   ]
  },
  {
   "cell_type": "markdown",
   "metadata": {},
   "source": [
    "Var(X+Y+Z) = Var((X+Y)+Z) = Var(X+Y) + Var(Z) + 2Cov(X+Y,Z) = Var(X) + Var(Y) + 2Cov(X,Y) + Var(Z) + 2*E[(X+Y-μ(x+y))(Z-μz)]\n",
    "\n",
    "#Now let's ake a ok at the last part only:\n",
    "E[(X+Y-μ(x+y))(Z-μz)] = E[(X-μx)(Z-μz) + (Y-μy)(Z-μz)] = Cov(X,Z) + Cov(Y+Z)\n",
    "\n",
    "# After aggregating all:\n",
    "Var(X+Y+Z) = Var(X) + Var(Y) + 2Cov(X,Y) + Var(Z) +2(Cov(X,Z) + Cov(Y+Z))\n",
    "\n",
    "# After arranging:\n",
    "Var(X+Y+Z) = Var(X) + Var(Y) + Var(Z) + 2Cov(X,Y) + 2Cov(X,Z) + 2Cov(Y+Z)\n",
    "\n",
    "# If X,Y,Z are pairwise independent:\n",
    "for every (a,b) s.t. (a,b) = (X,Y),(X,Z),(Y,Z):\n",
    "    Cov(a,b) = 0\n",
    "    \n",
    "Thus,\n",
    "Var(X+Y+Z) = Var(X) + Var(Y) + Var(Z)\n"
   ]
  },
  {
   "cell_type": "markdown",
   "metadata": {},
   "source": [
    "They are not necessarily collectively independet!\n",
    "The occurance of X can not reflect on the occurance of Z and Y, each one of them bytemselves.\n",
    "However, the occurance of Z and Y at the same time can have an influance on X (X can be replaced with Y or Z)\n",
    "\n",
    "Simple example:\n",
    "    Rolling 2 dices\n",
    "    3 events:\n",
    "        A. The sum of dices = 7. P(A) = 1/6\n",
    "        B. The #1 dice is 3. P(B) = 1/6\n",
    "        C. The #2 dice is 4. P(B) = 1/6\n",
    "    Each pair of them is independet because the P of each pair is P(A and B) = p(A)*P(B) = 1/36   (As well for C)\n",
    "    However, the P of 3 of them is P(A and B and C) = P(B and C) = 1/36 whereas P(A)*P(B)*P(C) = 1/216\n",
    "    "
   ]
  },
  {
   "cell_type": "markdown",
   "metadata": {},
   "source": [
    "### Question 4 - Convolutions"
   ]
  },
  {
   "cell_type": "markdown",
   "metadata": {},
   "source": [
    "#### 4.A\n",
    "Write a program, `Q = NFoldConv(P , n)`, that takes as input:\n",
    "* A distribution, P, of a random variable that takes finitely many integer values\n",
    "* An integer n\n",
    "\n",
    "and produces the distribution, Q, of the sum of n independent repeats of random variables, each of which has the distribution P."
   ]
  },
  {
   "cell_type": "code",
   "execution_count": 39,
   "metadata": {},
   "outputs": [],
   "source": [
    "#  G is an empty dictionary , in G we will have all possible keys , first key in G will be the minimum value of X and Y untill maximum value of X and Y \n",
    "# for example - if X=[1,2,3] and Y=[1,2,3] then G will start in 2 (1+1) and last key will be 6 (3+3)\n",
    "def convolution_calc(X,Y):\n",
    "    G=defaultdict(float)\n",
    "\n",
    "    \n",
    "\n",
    "\n",
    "    for key1, value1 in X.items():\n",
    "        for key2,value2 in Y.items():\n",
    "\n",
    "            \n",
    "            G[key1+key2]+=value1*value2\n",
    "\n",
    "\n",
    "    return G"
   ]
  },
  {
   "cell_type": "code",
   "execution_count": 40,
   "metadata": {},
   "outputs": [],
   "source": [
    "def NFoldConv(P,n):\n",
    "#     I will create a temp variable in order to hold P's data , because in convolution process we will need to convolve P with itself \n",
    "    P_2=P\n",
    "    \n",
    "#     we are running untill n-1, because for example if we have 3 variable (x,y,z)we will need 2 convolutions \n",
    "#  1st- x*y  and 2nd will be (x*y)*z\n",
    "\n",
    "\n",
    "    for i in range(n-1):\n",
    "        P_2=convolution_calc(P,P_2)\n",
    "\n",
    "    return P_2"
   ]
  },
  {
   "cell_type": "markdown",
   "metadata": {},
   "source": [
    "#### 4.B\n",
    "Compute the distribution of the sum of the results of rolling a fair octahedron 17 times.\n",
    "\n",
    "<img src=\"https://upload.wikimedia.org/wikipedia/commons/2/27/Octahedron.jpg\" width=\"200\">\n"
   ]
  },
  {
   "cell_type": "code",
   "execution_count": 41,
   "metadata": {},
   "outputs": [
    {
     "name": "stdout",
     "output_type": "stream",
     "text": [
      " The distribution of the sum of the results of rolling a fair octahedron 17 times is Q=defaultdict(<class 'float'>, {17: 4.440892098500626e-16, 18: 7.549516567451064e-15, 19: 6.794564910705958e-14, 20: 4.303224443447107e-13, 21: 2.1516122217235534e-12, 22: 9.036771331238924e-12, 23: 3.313482821454272e-11, 24: 1.088715784192118e-10, 25: 3.2660718574106795e-10, 26: 9.07134811711785e-10, 27: 2.3577291230481023e-09, 28: 5.782673007104222e-09, 29: 1.3473395732432891e-08, 30: 2.998400727705075e-08, 31: 6.401734875538523e-08, 32: 1.3161584089260714e-07, 33: 2.613809253482202e-07, 34: 5.027422242953605e-07, 35: 9.38663699212583e-07, 36: 1.7045993589981379e-06, 37: 3.015970226893927e-06, 38: 5.206881849684208e-06, 39: 8.783168114145923e-06, 40: 1.449303744882613e-05, 41: 2.3418493098503745e-05, 42: 3.7090165106334894e-05, 43: 5.762708941681183e-05, 44: 8.790117605705916e-05, 45: 0.00013172354057466862, 46: 0.0001940465160554794, 47: 0.000281171099826949, 48: 0.00040094502474907756, 49: 0.0005629319236253316, 50: 0.0007785276598544222, 51: 0.0010609964316725673, 52: 0.0014253974040241424, 53: 0.0018883730784566843, 54: 0.002467774003582779, 55: 0.0031821012120212266, 56: 0.004049758126849046, 57: 0.005088117430610772, 58: 0.006312424925249083, 59: 0.007734580675745839, 60: 0.009361856250110101, 61: 0.011195623843158309, 62: 0.013230186524219256, 63: 0.015451806826463077, 64: 0.017838031700777357, 65: 0.02035740428456334, 66: 0.022969636481963374, 67: 0.025626291369178045, 68: 0.028271992206021945, 69: 0.030846137527832607, 70: 0.033285062338742843, 71: 0.03552454726152865, 72: 0.03750254422783916, 73: 0.03916196231819313, 74: 0.0404533435000225, 75: 0.041337257154996365, 76: 0.04178625514552792, 77: 0.04178625514552792, 78: 0.041337257154996365, 79: 0.0404533435000225, 80: 0.03916196231819313, 81: 0.03750254422783916, 82: 0.03552454726152865, 83: 0.033285062338742843, 84: 0.030846137527832607, 85: 0.028271992206021945, 86: 0.025626291369178045, 87: 0.022969636481963374, 88: 0.02035740428456334, 89: 0.017838031700777357, 90: 0.015451806826463077, 91: 0.013230186524219256, 92: 0.011195623843158309, 93: 0.009361856250110101, 94: 0.007734580675745839, 95: 0.006312424925249083, 96: 0.005088117430610772, 97: 0.004049758126849046, 98: 0.0031821012120212266, 99: 0.002467774003582779, 100: 0.0018883730784566843, 101: 0.0014253974040241424, 102: 0.0010609964316725673, 103: 0.0007785276598544222, 104: 0.0005629319236253316, 105: 0.00040094502474907756, 106: 0.000281171099826949, 107: 0.0001940465160554794, 108: 0.00013172354057466862, 109: 8.790117605705916e-05, 110: 5.762708941681183e-05, 111: 3.7090165106334894e-05, 112: 2.3418493098503745e-05, 113: 1.449303744882613e-05, 114: 8.783168114145923e-06, 115: 5.206881849684208e-06, 116: 3.015970226893927e-06, 117: 1.7045993589981379e-06, 118: 9.38663699212583e-07, 119: 5.027422242953605e-07, 120: 2.613809253482202e-07, 121: 1.3161584089260714e-07, 122: 6.401734875538523e-08, 123: 2.998400727705075e-08, 124: 1.3473395732432891e-08, 125: 5.782673007104222e-09, 126: 2.3577291230481023e-09, 127: 9.07134811711785e-10, 128: 3.2660718574106795e-10, 129: 1.088715784192118e-10, 130: 3.313482821454272e-11, 131: 9.036771331238924e-12, 132: 2.1516122217235534e-12, 133: 4.303224443447107e-13, 134: 6.794564910705958e-14, 135: 7.549516567451064e-15, 136: 4.440892098500626e-16})\n"
     ]
    },
    {
     "data": {
      "image/png": "[encoded data removed]",
      "text/plain": [
       "<Figure size 432x288 with 1 Axes>"
      ]
     },
     "metadata": {
      "needs_background": "light"
     },
     "output_type": "display_data"
    }
   ],
   "source": [
    "n=17\n",
    "sides =8\n",
    "octahedron_dict={}\n",
    "# I will create a dictionery that will hold all probabilities for each side \n",
    "for i in range(1, sides+1):\n",
    "    octahedron_dict[i]=1/sides\n",
    "    \n",
    "Q=NFoldConv(octahedron_dict, 17)\n",
    "\n",
    "# vizualization\n",
    "lists=sorted(Q.items())\n",
    "key, val = zip(*lists)\n",
    "print(' The distribution of the sum of the results of rolling a fair octahedron 17 times is Q={}'.format(Q))\n",
    "plt.plot(key,val)\n",
    "plt.show()"
   ]
  },
  {
   "cell_type": "markdown",
   "metadata": {},
   "source": [
    "#### 4.C\n",
    "Assume that the price of a stock changes in any given day according to (in NIS):\n",
    "\n",
    "$$P=\\begin{pmatrix}\n",
    "-1 & 0 & 1 & 2 & 3 \\\\\n",
    "0.3 & 0.15 & 0.15 & 0.15 & 0.25\n",
    "\\end{pmatrix}$$\n",
    "\n",
    "1. What is the distribution of the change in stock after 2 consecutive days of (independent) changes? After 5 consecutive days? "
   ]
  },
  {
   "cell_type": "code",
   "execution_count": 42,
   "metadata": {},
   "outputs": [
    {
     "name": "stdout",
     "output_type": "stream",
     "text": [
      "The distribution of the change in stock after 2 consecutive days : defaultdict(<class 'float'>, {-2: 0.09, -1: 0.09, 0: 0.1125, 1: 0.135, 2: 0.21749999999999997, 3: 0.12, 4: 0.0975, 5: 0.075, 6: 0.0625})\n"
     ]
    },
    {
     "data": {
      "image/png": "[encoded data removed]",
      "text/plain": [
       "<Figure size 432x288 with 1 Axes>"
      ]
     },
     "metadata": {
      "needs_background": "light"
     },
     "output_type": "display_data"
    }
   ],
   "source": [
    "p_dict= {-1:0.3, 0:0.15, 1:0.15,2:0.15, 3:0.25}\n",
    "\n",
    "\n",
    "#  plotting distribution of the change in stock after 2 days \n",
    "day_2=NFoldConv(p_dict,2)\n",
    "print('The distribution of the change in stock after 2 consecutive days : {}'.format(day_2))\n",
    "two_days=sorted(day_2.items())\n",
    "key_d2, val_d2 = zip(*two_days)\n",
    "\n",
    "plt.plot(key_d2,val_d2)\n",
    "\n",
    "\n",
    "plt.show()"
   ]
  },
  {
   "cell_type": "code",
   "execution_count": 43,
   "metadata": {},
   "outputs": [
    {
     "name": "stdout",
     "output_type": "stream",
     "text": [
      "The distribution of the change in stock after 5 consecutive days: defaultdict(<class 'float'>, {-5: 0.00243, -4: 0.006075, -3: 0.012150000000000001, -2: 0.021262499999999997, -1: 0.038221874999999995, 0: 0.05373843749999999, 1: 0.07074843749999998, 2: 0.0872015625, 3: 0.10407656249999998, 4: 0.1071984375, 5: 0.10638843749999999, 6: 0.0996890625, 7: 0.0886078125, 8: 0.0683578125, 9: 0.05170781249999999, 10: 0.0363571875, 11: 0.023367187499999997, 12: 0.0120703125, 13: 0.0064453125, 14: 0.0029296875, 15: 0.0009765625}) \n"
     ]
    },
    {
     "data": {
      "image/png": "[encoded data removed]",
      "text/plain": [
       "<Figure size 432x288 with 1 Axes>"
      ]
     },
     "metadata": {
      "needs_background": "light"
     },
     "output_type": "display_data"
    }
   ],
   "source": [
    "#  plotting distribution of the change in stock after 5 days \n",
    "day_5=NFoldConv(p_dict,5)\n",
    "print('The distribution of the change in stock after 5 consecutive days: {} '.format(day_5))\n",
    "\n",
    "\n",
    "five_days=sorted(day_5.items())\n",
    "key_d5, val_d5 = zip(*five_days)\n",
    "\n",
    "plt.plot(key_d5,val_d5)\n",
    "plt.show()\n"
   ]
  },
  {
   "cell_type": "markdown",
   "metadata": {},
   "source": [
    "2. What is the probability that the stock has gained strictly more than 7NIS after 5 days? Has lost strictly more than 4NIS? Explain your answers."
   ]
  },
  {
   "cell_type": "markdown",
   "metadata": {},
   "source": [
    "Q- What is the probability that the stock has gained strictly more than 7NIS after 5 days:\n",
    "\n",
    "A- we calculated in the previous section  the change in stock after 5 consecutive days, in order to calculate the probabily P(x>7) after 5 days we need to sum all probabily of keys that higher than 7 - in this case we want to sum the probability of keys 8-15.\n"
   ]
  },
  {
   "cell_type": "code",
   "execution_count": 44,
   "metadata": {},
   "outputs": [
    {
     "name": "stdout",
     "output_type": "stream",
     "text": [
      "0.202211875\n"
     ]
    }
   ],
   "source": [
    "tot_7=0\n",
    "for v,k in day_5.items():\n",
    "    if v>7:\n",
    "        tot_7+=k\n",
    "        \n",
    "print(tot_7)"
   ]
  },
  {
   "cell_type": "markdown",
   "metadata": {},
   "source": [
    "Q-What is the probability that the stock has lost strictly more than 4NIS  after 5 days? \n",
    "\n",
    "A- we need to calculate the probability that we lost mora than 4 NIS after 5 days , so we are looking for P(x<-4)-> mening that we are looking for key -5 in this case .\n",
    "\n",
    "-5=0.00243"
   ]
  },
  {
   "cell_type": "code",
   "execution_count": 45,
   "metadata": {},
   "outputs": [
    {
     "name": "stdout",
     "output_type": "stream",
     "text": [
      "0.00243\n"
     ]
    }
   ],
   "source": [
    "tot_4=0\n",
    "for v,k in day_5.items():\n",
    "    if v<-4:\n",
    "        tot_4+=k\n",
    "        \n",
    "print(tot_4)"
   ]
  },
  {
   "cell_type": "code",
   "execution_count": null,
   "metadata": {},
   "outputs": [],
   "source": []
  }
 ],
 "metadata": {
  "kernelspec": {
   "display_name": "Python 3",
   "language": "python",
   "name": "python3"
  },
  "language_info": {
   "codemirror_mode": {
    "name": "ipython",
    "version": 3
   },
   "file_extension": ".py",
   "mimetype": "text/x-python",
   "name": "python",
   "nbconvert_exporter": "python",
   "pygments_lexer": "ipython3",
   "version": "3.8.10"
  }
 },
 "nbformat": 4,
 "nbformat_minor": 4
}

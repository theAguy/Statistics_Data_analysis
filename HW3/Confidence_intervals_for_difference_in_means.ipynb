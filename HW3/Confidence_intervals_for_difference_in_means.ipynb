{
 "cells": [
  {
   "cell_type": "markdown",
   "metadata": {},
   "source": [
    "# Confidence intervals for difference in means"
   ]
  },
  {
   "cell_type": "markdown",
   "metadata": {},
   "source": [
    "Assume two samples of sizes $n_1$ and $n_2$ for the two different populations.\n",
    "\n",
    "Compute the two sampling averages, $\\hat{\\mu_1}$ and $\\hat{\\mu_2}$ and the two empirical standard deviations $\\hat{\\sigma_1}$ and $\\hat{\\sigma_2}$.\n",
    "\n",
    "Set $$SE=\\sqrt{\\frac{\\hat{\\sigma_1}^2}{n_1} +\\frac{\\hat{\\sigma_2}^2}{n_2}}$$\n",
    "\n",
    "If $n_1$ and $n_2$ are large enough and if the sampling was independent (within each group and between the groups) then we have, with confidence $1-\\alpha$:\n",
    "$$\\mu_1-\\mu_2 \\in (\\hat{\\mu_1}-\\hat{\\mu_2})±SE\\Phi^{-1}(1-\\frac{\\alpha}{2}) $$\n"
   ]
  },
  {
   "cell_type": "code",
   "execution_count": 1,
   "metadata": {},
   "outputs": [
    {
     "name": "stdout",
     "output_type": "stream",
     "text": [
      "0.05 0.942\n",
      "0.05 0.942\n"
     ]
    }
   ],
   "source": [
    "from scipy.stats import norm\n",
    "import numpy as np\n",
    "import statsmodels.stats.api as sms\n",
    "# Comparing two sample means.\n",
    "# D: theoretical difference\n",
    "# a: confidence level\n",
    "# R: number of repeats\n",
    "\n",
    "D = 5\n",
    "a = 0.05\n",
    "R = 1000\n",
    "n1, mu1, std1 = 1000, 10, 2\n",
    "n2, mu2, std2 = 1000, mu1+D, 2\n",
    "c = 0.0\n",
    "c1 = 0.0\n",
    "for _ in range(R):\n",
    "    # generate data\n",
    "    x1 = norm.rvs(mu1, std1, n1)\n",
    "    x2 = norm.rvs(mu2, std2, n2)\n",
    "    # manual calculation\n",
    "    m1, s1 = x1.mean(), x1.std(ddof=1)\n",
    "    m2, s2 = x2.mean(), x2.std(ddof=1)\n",
    "    SE = np.sqrt(s1**2 / n1 + s2**2 / n2)\n",
    "    conf_int = (m2-m1 - SE*norm.ppf(1-a/2) , m2-m1 + SE*norm.ppf(1-a/2))\n",
    "    c += D > conf_int[0] and D < conf_int[1]\n",
    "    # using statsmodels package\n",
    "    comp = sms.CompareMeans(sms.DescrStatsW(x2),sms.DescrStatsW(x1))\n",
    "    conf_int1 = comp.tconfint_diff()\n",
    "    c1 += D > conf_int1[0] and D < conf_int1[1]\n",
    "print(a,c/R)\n",
    "print(a,c1/R)"
   ]
  }
 ],
 "metadata": {
  "kernelspec": {
   "display_name": "Python 3",
   "language": "python",
   "name": "python3"
  },
  "language_info": {
   "codemirror_mode": {
    "name": "ipython",
    "version": 3
   },
   "file_extension": ".py",
   "mimetype": "text/x-python",
   "name": "python",
   "nbconvert_exporter": "python",
   "pygments_lexer": "ipython3",
   "version": "3.8.3"
  }
 },
 "nbformat": 4,
 "nbformat_minor": 4
}
